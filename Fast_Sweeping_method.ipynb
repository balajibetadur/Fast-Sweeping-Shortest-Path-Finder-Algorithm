{
  "nbformat": 4,
  "nbformat_minor": 0,
  "metadata": {
    "colab": {
      "name": "Fast Sweeping method.ipynb",
      "provenance": [],
      "collapsed_sections": [],
      "include_colab_link": true
    },
    "kernelspec": {
      "name": "python3",
      "display_name": "Python 3"
    }
  },
  "cells": [
    {
      "cell_type": "markdown",
      "metadata": {
        "id": "view-in-github",
        "colab_type": "text"
      },
      "source": [
        "<a href=\"https://colab.research.google.com/github/balajibetadur/fast-Sweeping/blob/main/Fast_Sweeping_method.ipynb\" target=\"_parent\"><img src=\"https://colab.research.google.com/assets/colab-badge.svg\" alt=\"Open In Colab\"/></a>"
      ]
    },
    {
      "cell_type": "code",
      "metadata": {
        "id": "3beaBk4g0ARo"
      },
      "source": [
        "import cv2\n",
        "img = cv2.imread('/content/map5.bmp')"
      ],
      "execution_count": null,
      "outputs": []
    },
    {
      "cell_type": "code",
      "metadata": {
        "id": "zCOZNkFS0MHH"
      },
      "source": [
        "n = img.shape[0]\n",
        "import numpy as np\n",
        "x0 = [n/2,n/2]\n",
        "u = np.zeros((n,n)) + np.inf\n",
        "u[438, 23] = 0\n",
        "[nodex, nodey] = u.shape\n",
        "h = 1\n",
        "Order_j = [range(nodex),range(nodex),range(nodex)[::-1],range(nodex)[::-1]]\n",
        "Order_i = [range(nodey),range(nodey)[::-1],range(nodey),range(nodey)[::-1]]\n",
        "import matplotlib.pyplot as plt\n"
      ],
      "execution_count": null,
      "outputs": []
    },
    {
      "cell_type": "code",
      "metadata": {
        "colab": {
          "base_uri": "https://localhost:8080/"
        },
        "id": "8cwbWpDQ0odI",
        "outputId": "ee1e56c9-a4ca-40f1-92a9-2ce623df1fea"
      },
      "source": [
        "import math\n",
        "import numpy as np\n",
        "for O in range(0,4):# different sweeping order\n",
        "    for i in Order_i[O]:    #y\n",
        "        for j in Order_j[O]:#column\n",
        "            # The Gauss Seidel loop\n",
        "            # Only carry it out if the node hasn't been set initially\n",
        "            if not (np.isnan(u[i, j])):  #if pixel value is present\n",
        "            \n",
        "                if ((i > 0) and (i < nodey - 1)):  #if not on boundary\n",
        "                    uymin = min(u[i - 1, j], u[i + 1, j])\n",
        "                elif (i == 0):\n",
        "                    uymin = u[2, j]\n",
        "                else:\n",
        "                    uymin = u[nodey - 1, j]\n",
        "                \n",
        "                if ((j > 0) and (j < nodex - 1)):\n",
        "                    uxmin = min(u[i, j - 1], u[i, j + 1])\n",
        "                elif (j == 0):\n",
        "                    uxmin = u[i, 2]\n",
        "                else:\n",
        "                    uxmin = u[i, nodex - 1]\n",
        "                \n",
        "                if (abs(uxmin - uymin) >= h):\n",
        "                    ubar = min(uxmin, uymin) + h\n",
        "                else:\n",
        "                    ubar = (uxmin + uymin + math.sqrt(2 * h ** 2 - (uxmin - uymin) ** 2)) / 2\n",
        "                \n",
        "                u[i, j] = min(u[i, j], ubar)\n",
        "                    #if\n",
        " \n",
        " "
      ],
      "execution_count": null,
      "outputs": [
        {
          "output_type": "stream",
          "text": [
            "/usr/local/lib/python3.6/dist-packages/ipykernel_launcher.py:24: RuntimeWarning: invalid value encountered in double_scalars\n",
            "/usr/local/lib/python3.6/dist-packages/ipykernel_launcher.py:27: RuntimeWarning: invalid value encountered in double_scalars\n"
          ],
          "name": "stderr"
        }
      ]
    },
    {
      "cell_type": "code",
      "metadata": {
        "colab": {
          "base_uri": "https://localhost:8080/",
          "height": 517
        },
        "id": "hBLhrrUA0phw",
        "outputId": "4aad2f93-b13d-4cbd-8914-f8cbc1d92e3d"
      },
      "source": [
        "import numpy as np\n",
        "# import pylab as plt\n",
        "#import skfmm\n",
        "import math\n",
        "from math import sqrt, pi\n",
        "from numpy import sin, cos, exp\n",
        "import numpy as np\n",
        "import matplotlib.pyplot as plt\n",
        "import cv2\n",
        "from google.colab.patches import cv2_imshow\n",
        "import time \n",
        "\n",
        "rows, cols, chamels = img.shape\n",
        "roi = img[0:rows, 0:cols]\n",
        "\n",
        "\n",
        "img2gray = cv2.cvtColor(img, cv2.COLOR_BGR2GRAY)\n",
        "# print img2gray\n",
        "ret, mask = cv2.threshold(img2gray, 254, 255, cv2.THRESH_BINARY_INV)\n",
        "\n",
        "cv2_imshow(mask)"
      ],
      "execution_count": null,
      "outputs": [
        {
          "output_type": "display_data",
          "data": {
            "image/png": "[encoded data removed]",
            "text/plain": [
              "<PIL.Image.Image image mode=L size=500x500 at 0x7F1D2505F198>"
            ]
          },
          "metadata": {
            "tags": []
          }
        }
      ]
    },
    {
      "cell_type": "code",
      "metadata": {
        "id": "lIorPEAJ0uwx"
      },
      "source": [
        "white = []\n",
        "for i in range(mask.shape[0]):\n",
        "    for j in range(mask.shape[1]):\n",
        "        if mask[i][j] == 255:\n",
        "            white.append([i,j])"
      ],
      "execution_count": null,
      "outputs": []
    },
    {
      "cell_type": "code",
      "metadata": {
        "id": "MVcpoGap0zg0"
      },
      "source": [
        "temp = u.copy()\n",
        "for i in white:\n",
        "    u[i[0]][i[1]] = np.inf"
      ],
      "execution_count": null,
      "outputs": []
    },
    {
      "cell_type": "code",
      "metadata": {
        "colab": {
          "base_uri": "https://localhost:8080/",
          "height": 269
        },
        "id": "wwilz4GA014z",
        "outputId": "07cb1a01-42b4-47cf-e401-9178948116d5"
      },
      "source": [
        "\n",
        "import matplotlib.pyplot as plt\n",
        "\n",
        "import numpy as np \n",
        " # sample 2D array \n",
        "plt.imshow(u, cmap=\"gray\") \n",
        "\n",
        "plt.show() "
      ],
      "execution_count": null,
      "outputs": [
        {
          "output_type": "display_data",
          "data": {
            "image/png": "[encoded data removed]",
            "text/plain": [
              "<Figure size 432x288 with 1 Axes>"
            ]
          },
          "metadata": {
            "tags": [],
            "needs_background": "light"
          }
        }
      ]
    },
    {
      "cell_type": "code",
      "metadata": {
        "colab": {
          "base_uri": "https://localhost:8080/",
          "height": 517
        },
        "id": "6BRka6I2hQL9",
        "outputId": "8050ba81-ba70-4bb6-f85e-0c6622360c27"
      },
      "source": [
        "test2=np.ones([500,500])\n",
        "for i in range(test2.shape[0]):\n",
        "\n",
        "  for j in range(test2.shape[1]):\n",
        "    test2[i][j]=np.inf\n",
        "cv2_imshow(test2)\n"
      ],
      "execution_count": null,
      "outputs": [
        {
          "output_type": "display_data",
          "data": {
            "image/png": "[encoded data removed]",
            "text/plain": [
              "<PIL.Image.Image image mode=L size=500x500 at 0x7F1D23D99D68>"
            ]
          },
          "metadata": {
            "tags": []
          }
        }
      ]
    },
    {
      "cell_type": "code",
      "metadata": {
        "colab": {
          "base_uri": "https://localhost:8080/",
          "height": 269
        },
        "id": "G1LjQh0B04B3",
        "outputId": "ac1483c8-5444-4cea-d23e-0d6a1ffbf1cf"
      },
      "source": [
        "Tx = 23\n",
        "Ty = 438\n",
        "#blue\n",
        "ix = xpos = 314\n",
        "iy = ypos = 16\n",
        "m = 0\n",
        "n = 0\n",
        "distance = sqrt((xpos - Tx) ** 2 + (ypos - Ty) ** 2)\n",
        "position = (xpos, ypos)\n",
        "import matplotlib.pyplot as plt\n",
        "\n",
        "import numpy as np \n",
        " # sample 2D array \n",
        "plt.imshow(u, cmap=\"gray\") \n",
        "#edit\n",
        "\n",
        "\n",
        "\n",
        "#edit\n",
        "\n",
        "plt.plot(xpos, ypos, 'bs')\n",
        "plt.plot(Tx, Ty, 'rs')\n",
        "plt.show() "
      ],
      "execution_count": null,
      "outputs": [
        {
          "output_type": "display_data",
          "data": {
            "image/png": "[encoded data removed]",
            "text/plain": [
              "<Figure size 432x288 with 1 Axes>"
            ]
          },
          "metadata": {
            "tags": [],
            "needs_background": "light"
          }
        }
      ]
    },
    {
      "cell_type": "code",
      "metadata": {
        "id": "RqT6sDOT1Az0"
      },
      "source": [
        "test=u.copy()"
      ],
      "execution_count": null,
      "outputs": []
    },
    {
      "cell_type": "code",
      "metadata": {
        "id": "tUj8o-OwdVr3"
      },
      "source": [
        "# def draw_line(mat, x0, y0, x1, y1, inplace=False):\n",
        "#     if not (0 <= x0 < mat.shape[0] and 0 <= x1 < mat.shape[0] and\n",
        "#             0 <= y0 < mat.shape[1] and 0 <= y1 < mat.shape[1]):\n",
        "#         raise ValueError('Invalid coordinates.')\n",
        "#     if not inplace:\n",
        "#         mat = mat.copy()\n",
        "#     if (x0, y0) == (x1, y1):\n",
        "#         mat[x0, y0] = 2\n",
        "#         return mat if not inplace else None\n",
        "#     # Swap axes if Y slope is smaller than X slope\n",
        "#     transpose = abs(x1 - x0) < abs(y1 - y0)\n",
        "#     if transpose:\n",
        "#         mat = mat.T\n",
        "#         x0, y0, x1, y1 = y0, x0, y1, x1\n",
        "#     # Swap line direction to go left-to-right if necessary\n",
        "#     if x0 > x1:\n",
        "#         x0, y0, x1, y1 = x1, y1, x0, y0\n",
        "#     # Write line ends\n",
        "#     mat[x0, y0] = 2\n",
        "#     mat[x1, y1] = 2\n",
        "#     # Compute intermediate coordinates using line equation\n",
        "#     x = np.arange(x0 + 1, x1)\n",
        "#     y = np.round(((y1 - y0) / (x1 - x0)) * (x - x0) + y0).astype(x.dtype)\n",
        "#     # Write intermediate coordinates\n",
        "#     mat[x, y] = 1\n",
        "#     if not inplace:\n",
        "#         return mat if not transpose else mat.T"
      ],
      "execution_count": null,
      "outputs": []
    },
    {
      "cell_type": "code",
      "metadata": {
        "colab": {
          "base_uri": "https://localhost:8080/",
          "height": 1000
        },
        "id": "gMj4T2Bg06v8",
        "outputId": "23d1711b-b1e0-449f-96c6-1286372c5e47"
      },
      "source": [
        "path = [[], []]\n",
        "pathlength =0\n",
        "li = []\n",
        "def dist(x, y):\n",
        "    distance = u[x][y]\n",
        "    return distance\n",
        "while distance > 10:\n",
        "\n",
        "    value = []\n",
        "    index = []\n",
        "    position = (xpos, ypos)\n",
        "\n",
        "    for M in range(-6, 7, 6):\n",
        "        for N in range(-6, 7, 6):\n",
        "            m = xpos + M\n",
        "            n = ypos + N\n",
        "            P = dist(n, m)\n",
        "            if P > 0:\n",
        "                value.append(P)\n",
        "            else:\n",
        "                value.append(10)\n",
        "            # plt.plot(m,n,'ro')\n",
        "            index.append((M, N))\n",
        "\n",
        "    # path[0].append(m)\n",
        "    # path[1].append(n)\n",
        "    print('position :', position)\n",
        "\n",
        "    # plt.plot(xpos,ypos,'go')\n",
        "    N = np.argmin(value)\n",
        "\n",
        "\n",
        "    print('distance:', distance)\n",
        "    # xindex = N / 6\n",
        "    # yindex = N % 6\n",
        "\n",
        "    m = xpos\n",
        "    n = ypos\n",
        "\n",
        "    xpos = xpos + index[N][0]\n",
        "    ypos = ypos + index[N][1]\n",
        "    li.append([[xpos, m], [ypos, n]])\n",
        "    line, = plt.plot([xpos, m], [ypos, n], 'green', lw=2)\n",
        "    #draw_line(test2, xpos, ypos, m, n, inplace=True)\n",
        "    distance = sqrt((xpos - Tx) ** 2 + (ypos - Ty) ** 2)\n",
        "    # print(xindex, yindex)\n",
        "    pathlength+=sqrt((xpos - m) ** 2 + (ypos - n) ** 2)\n",
        "\n",
        "\n",
        "\n",
        "\n",
        "\n",
        "\n",
        "\n",
        "\n",
        "    \n",
        "'''\n",
        "time_elapsed = (time.clock() - time_start)\n",
        "print\n",
        "'timeelapsed', time_elapsed\n",
        "print(\"--- %s seconds ---\" % (time.time() - start_time))\n",
        "\n",
        "print\n",
        "path[0], path[1]'''\n",
        "print ('pathlength :',pathlength)\n",
        "plt.title(pathlength)\n",
        "plt.gca().invert_yaxis()\n",
        "plt.show()\n",
        "cv2.waitKey(0)\n",
        "# cv2.destroyAllWindows()\n",
        "plt.savefig('plot.png')\n",
        "plt.show()\n",
        "plt.imshow(u, cmap=\"gray\") \n",
        "#edit\n",
        "\n",
        "\n",
        "\n",
        "#edit\n",
        "\n",
        "plt.plot(ix, iy, 'bs')\n",
        "plt.plot(Tx, Ty, 'rs')\n",
        "plt.show() \n"
      ],
      "execution_count": null,
      "outputs": [
        {
          "output_type": "stream",
          "text": [
            "position : (314, 16)\n",
            "distance: 512.6060865811096\n",
            "position : (308, 22)\n",
            "distance: 504.26282829492794\n",
            "position : (302, 28)\n",
            "distance: 495.9243893982227\n",
            "position : (296, 34)\n",
            "distance: 487.5910171444917\n",
            "position : (290, 40)\n",
            "distance: 479.26297582851106\n",
            "position : (284, 46)\n",
            "distance: 470.9405482648526\n",
            "position : (278, 52)\n",
            "distance: 462.62403742131687\n",
            "position : (272, 58)\n",
            "distance: 454.31376822632177\n",
            "position : (266, 64)\n",
            "distance: 446.0100895719737\n",
            "position : (260, 70)\n",
            "distance: 437.7133765376608\n",
            "position : (254, 76)\n",
            "distance: 429.424032862624\n",
            "position : (248, 82)\n",
            "distance: 421.1424937001727\n",
            "position : (242, 88)\n",
            "distance: 412.8692286911196\n",
            "position : (236, 94)\n",
            "distance: 404.6047453997543\n",
            "position : (230, 100)\n",
            "distance: 396.3495931624\n",
            "position : (224, 106)\n",
            "distance: 388.1043674065006\n",
            "position : (218, 112)\n",
            "distance: 379.8697145074874\n",
            "position : (212, 118)\n",
            "distance: 371.6463372616499\n",
            "position : (206, 124)\n",
            "distance: 363.4350010662154\n",
            "position : (200, 130)\n",
            "distance: 355.2365409132343\n",
            "position : (194, 136)\n",
            "distance: 347.0518693221519\n",
            "position : (194, 142)\n",
            "distance: 341.84353145847297\n",
            "position : (188, 148)\n",
            "distance: 333.65401241405743\n",
            "position : (188, 154)\n",
            "distance: 328.45243186799513\n",
            "position : (188, 160)\n",
            "distance: 323.2785176902418\n",
            "position : (182, 166)\n",
            "distance: 315.06348566598444\n",
            "position : (182, 172)\n",
            "distance: 309.8983704377937\n",
            "position : (176, 178)\n",
            "distance: 301.6769795658926\n",
            "position : (170, 184)\n",
            "distance: 293.47061181658376\n",
            "position : (164, 190)\n",
            "distance: 285.2805636562014\n",
            "position : (158, 196)\n",
            "distance: 277.1082820848197\n",
            "position : (152, 202)\n",
            "distance: 268.9553866350328\n",
            "position : (146, 208)\n",
            "distance: 260.82369524259104\n",
            "position : (140, 214)\n",
            "distance: 252.7152547829276\n",
            "position : (134, 220)\n",
            "distance: 244.63237725207185\n",
            "position : (128, 226)\n",
            "distance: 236.57768280207665\n",
            "position : (122, 232)\n",
            "distance: 228.55415113272392\n",
            "position : (116, 238)\n",
            "distance: 220.56518310921152\n",
            "position : (110, 238)\n",
            "distance: 218.10318658836692\n",
            "position : (104, 238)\n",
            "distance: 215.77998053572995\n",
            "position : (98, 244)\n",
            "distance: 207.99278833651903\n",
            "position : (92, 250)\n",
            "distance: 200.26232796010336\n",
            "position : (86, 250)\n",
            "distance: 198.27506146764904\n",
            "position : (80, 256)\n",
            "distance: 190.71706793048176\n",
            "position : (74, 262)\n",
            "distance: 183.24027941476186\n",
            "position : (68, 268)\n",
            "distance: 175.85505395068975\n",
            "position : (62, 274)\n",
            "distance: 168.5734261382855\n",
            "position : (56, 280)\n",
            "distance: 161.4094173212951\n",
            "position : (50, 286)\n",
            "distance: 154.37940277122465\n",
            "position : (44, 292)\n",
            "distance: 147.50254235097103\n",
            "position : (38, 298)\n",
            "distance: 140.80127840328723\n",
            "position : (32, 304)\n",
            "distance: 134.30189872075525\n",
            "position : (26, 310)\n",
            "distance: 128.03515142334936\n",
            "position : (20, 316)\n",
            "distance: 122.03687967167957\n",
            "position : (20, 322)\n",
            "distance: 116.03878661895772\n",
            "position : (20, 328)\n",
            "distance: 110.04090148667449\n",
            "position : (20, 334)\n",
            "distance: 104.04326023342406\n",
            "position : (20, 340)\n",
            "distance: 98.04590761474952\n",
            "position : (20, 346)\n",
            "distance: 92.04890004774636\n",
            "position : (20, 352)\n",
            "distance: 86.05230967266364\n",
            "position : (20, 358)\n",
            "distance: 80.05623023850174\n",
            "position : (20, 364)\n",
            "distance: 74.06078584514209\n",
            "position : (20, 370)\n",
            "distance: 68.06614430096654\n",
            "position : (20, 376)\n",
            "distance: 62.07253821135398\n",
            "position : (20, 382)\n",
            "distance: 56.08029957123981\n",
            "position : (20, 388)\n",
            "distance: 50.08991914547278\n",
            "position : (20, 394)\n",
            "distance: 44.10215414239989\n",
            "position : (20, 400)\n",
            "distance: 38.118237105091836\n",
            "position : (20, 406)\n",
            "distance: 32.14031735997639\n",
            "position : (20, 412)\n",
            "distance: 26.1725046566048\n",
            "position : (20, 418)\n",
            "distance: 20.223748416156685\n",
            "position : (20, 424)\n",
            "distance: 14.317821063276353\n",
            "pathlength : 546.3229432149745\n"
          ],
          "name": "stdout"
        },
        {
          "output_type": "display_data",
          "data": {
            "image/png": "[encoded data removed]",
            "text/plain": [
              "<Figure size 432x288 with 1 Axes>"
            ]
          },
          "metadata": {
            "tags": [],
            "needs_background": "light"
          }
        },
        {
          "output_type": "display_data",
          "data": {
            "text/plain": [
              "<Figure size 432x288 with 0 Axes>"
            ]
          },
          "metadata": {
            "tags": []
          }
        },
        {
          "output_type": "display_data",
          "data": {
            "image/png": "[encoded data removed]",
            "text/plain": [
              "<Figure size 432x288 with 1 Axes>"
            ]
          },
          "metadata": {
            "tags": [],
            "needs_background": "light"
          }
        }
      ]
    },
    {
      "cell_type": "code",
      "metadata": {
        "id": "Rif-L9PMdtnS",
        "colab": {
          "base_uri": "https://localhost:8080/"
        },
        "outputId": "e19d3977-a18f-4a66-c85a-62bfa2b9833e"
      },
      "source": [
        "# plt.imshow(test2, cmap=\"gray\") \n",
        "# #edit\n",
        "\n",
        "import array \n",
        "a=array.array('d',[1,2,4,5])\n",
        "print(a)\n",
        "\n",
        "# #edit\n",
        "\n",
        "# plt.plot(ix, iy, 'bs')\n",
        "# plt.plot(Tx, Ty, 'rs')\n",
        "# plt.show() \n"
      ],
      "execution_count": null,
      "outputs": [
        {
          "output_type": "stream",
          "text": [
            "array('d', [1.0, 2.0, 4.0, 5.0])\n"
          ],
          "name": "stdout"
        }
      ]
    }
  ]
}