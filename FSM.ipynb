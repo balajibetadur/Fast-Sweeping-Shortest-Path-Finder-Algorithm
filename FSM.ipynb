{
  "nbformat": 4,
  "nbformat_minor": 0,
  "metadata": {
    "colab": {
      "name": "FSM",
      "provenance": [],
      "collapsed_sections": [
        "IIbiIC2J52wy",
        "FZTjvKco556k",
        "Cf6IzksW6Jst"
      ],
      "toc_visible": true,
      "include_colab_link": true
    },
    "kernelspec": {
      "name": "python3",
      "display_name": "Python 3"
    }
  },
  "cells": [
    {
      "cell_type": "markdown",
      "metadata": {
        "id": "view-in-github",
        "colab_type": "text"
      },
      "source": [
        "<a href=\"https://colab.research.google.com/github/balajibetadur/fast-Sweeping/blob/main/FSM.ipynb\" target=\"_parent\"><img src=\"https://colab.research.google.com/assets/colab-badge.svg\" alt=\"Open In Colab\"/></a>"
      ]
    },
    {
      "cell_type": "markdown",
      "metadata": {
        "id": "IIbiIC2J52wy"
      },
      "source": [
        "# part 1 OMPC"
      ]
    },
    {
      "cell_type": "code",
      "metadata": {
        "id": "xbEDaxvD62YT",
        "colab": {
          "base_uri": "https://localhost:8080/",
          "height": 128
        },
        "outputId": "01d1ec0c-d257-463c-9eb5-c9333ea93875"
      },
      "source": [
        "#The fast sweeping method in two dimensions. \n",
        "#S. Luo, and J. Qian, \"Fast Sweeping Methods for Factored Anisotropic \n",
        "#Eikonal Equations: Multiplicative and Additive Factors,\" J Sci Comput 52, 360-382 (2012)\n",
        "#(a) shows the arrival times after sweeping up-right. \n",
        "#(b) is an image of the arrival times after a further sweep up-left. \n",
        "#(c) displays the arrival times, T, after a further sweep down right. \n",
        "#(d) shows the final state of the arrival times, which is obtained after\n",
        "#a further sweep down-left. A fifth sweep is required which does not\n",
        "#update any values for the method to reach its termination condition.\n",
        "\n",
        "# number of grid\n",
        "import numpy as np\n",
        "n = 50\n",
        "W = np.ones((n,n))\n",
        "x0 = mcat([n / 2, OMPCSEMI, n / 2])\n",
        "# interested domain\n",
        "x = linspace(-1, 1, n)\n",
        "y = linspace(-1, 1, n)\n",
        "[X, Y] = meshgrid(x, y)\n",
        "neigh = mcat([mcat([-1, OMPCSEMI, 0]), mcat([1, OMPCSEMI, 0]), mcat([0, OMPCSEMI, 1]), mcat([0, OMPCSEMI, -1]), mcat([-1, OMPCSEMI, -1]), mcat([1, OMPCSEMI, -1]), mcat([-1, OMPCSEMI, 1]), mcat([1, OMPCSEMI, 1])])\n",
        "boundary = lambda x: mod(x - 1, n) + 1\n",
        "ind2sub1 = lambda k: mcat([rem(k - 1, n) + 1, OMPCSEMI, (k - rem(k - 1, n) - 1) / n + 1])\n",
        "sub2ind1 = lambda u: (u(2) - 1) * n + u(1)\n",
        "Neigh = lambda k, i: sub2ind1(boundary(ind2sub1(k) + neigh(mslice[:], i)))\n",
        "\n",
        "\n",
        "I = sub2ind1(x0)#19*40+20\n",
        "#u:distance map\n",
        "u = zeros(n) + Inf\n",
        "u(I).lvalue = 0\n",
        "\n",
        "[nodex, nodey] = size(u)\n",
        "h = 1\n",
        "\n",
        "[nodex, nodey] = size(u)\n",
        "Order_j = mcat([mslice[1:nodex], OMPCSEMI, mslice[1:nodex], OMPCSEMI, mslice[nodex:-1:1], OMPCSEMI, mslice[nodex:-1:1]])\n",
        "Order_i = mcat([mslice[1:nodey], OMPCSEMI, mslice[nodey:-1:1], OMPCSEMI, mslice[1:nodey], OMPCSEMI, mslice[nodey:-1:1]])\n",
        "# Algorithm of sweeping\n",
        "for O in mslice[1:4]:# different sweeping order\n",
        "    for i in Order_i(O, mslice[1:50]):    #y\n",
        "        for j in Order_j(O, mslice[:]):        #column\n",
        "            # The Gauss Seidel loop\n",
        "            # Only carry it out if the node hasn't been set initially\n",
        "            if not (isnan(u(i, j))):\n",
        "                if ((i > 1) and (i < nodey)):\n",
        "                    uymin = min(u(i - 1, j), u(i + 1, j))\n",
        "                elif (i == 1):\n",
        "                    uymin = u(2, j)\n",
        "                else:\n",
        "                    uymin = u(nodey - 1, j)\n",
        "                end\n",
        "                if ((j > 1) and (j < nodex)):\n",
        "                    uxmin = min(u(i, j - 1), u(i, j + 1))\n",
        "                elif (j == 1):\n",
        "                    uxmin = u(i, 2)\n",
        "                else:\n",
        "                    uxmin = u(i, nodex - 1)\n",
        "                end\n",
        "                if (abs(uxmin - uymin) >= h):\n",
        "                    ubar = min(uxmin, uymin) + h\n",
        "                else:\n",
        "                    ubar = (uxmin + uymin + sqrt(2 * h ** 2 - (uxmin - uymin) ** 2)) / 2\n",
        "                end\n",
        "                u(i, j).lvalue = min(u(i, j), ubar)\n",
        "            end        #if\n",
        "        end\n",
        "    end\n",
        "end\n",
        "figure()\n",
        "[C, h] = contour(x, y, u); print C; print h\n",
        "set(h, mstring('LineWidth'), 3)\n",
        "set(gca, mstring('xtick'), mslice[-1:0.2:1])\n",
        "set(gca, mstring('ytick'), mcat([mslice[-1:0.2:1]]))\n",
        "set(gca, mstring('fontsize'), 18)\n",
        "xlabel(mstring('x'))\n",
        "ylabel(mstring('y'))"
      ],
      "execution_count": null,
      "outputs": [
        {
          "output_type": "error",
          "ename": "SyntaxError",
          "evalue": "ignored",
          "traceback": [
            "\u001b[0;36m  File \u001b[0;32m\"<ipython-input-1-8be1fcfc3e85>\"\u001b[0;36m, line \u001b[0;32m70\u001b[0m\n\u001b[0;31m    [C, h] = contour(x, y, u); print C; print h\u001b[0m\n\u001b[0m                                     ^\u001b[0m\n\u001b[0;31mSyntaxError\u001b[0m\u001b[0;31m:\u001b[0m invalid syntax\n"
          ]
        }
      ]
    },
    {
      "cell_type": "markdown",
      "metadata": {
        "id": "FZTjvKco556k"
      },
      "source": [
        "# part 1 VIRGIN MATLAB"
      ]
    },
    {
      "cell_type": "code",
      "metadata": {
        "id": "j6hadWOQ2oII"
      },
      "source": [
        "\n",
        "# %The fast sweeping method in two dimensions. \n",
        "# %S. Luo, and J. Qian, \"Fast Sweeping Methods for Factored Anisotropic \n",
        "# %Eikonal Equations: Multiplicative and Additive Factors,\" J Sci Comput 52, 360-382 (2012)\n",
        "# %(a) shows the arrival times after sweeping up-right. \n",
        "# %(b) is an image of the arrival times after a further sweep up-left. \n",
        "# %(c) displays the arrival times, T, after a further sweep down right. \n",
        "# %(d) shows the final state of the arrival times, which is obtained after\n",
        "# %a further sweep down-left. A fifth sweep is required which does not\n",
        "# %update any values for the method to reach its termination condition.\n",
        "# clear \n",
        "# % number of grid\n",
        "\n",
        "import time\n",
        "\n",
        "\n",
        "time_start = time.clock()\n",
        "start_time = time.time()\n",
        "\n",
        "\n",
        "n = 50;\n",
        "W = ones(n);\n",
        "x0=[n/2;n/2];\n",
        "% interested domain\n",
        "x = linspace(-1,1,n);\n",
        "y = linspace(-1,1,n);\n",
        "[X,Y] = meshgrid(x,y);\n",
        "neigh = [[-1;0] [1;0] [0;1] [0;-1] [-1 ;-1] [1; -1] [-1; 1] [1 ;1]];\n",
        "boundary = @(x)mod(x-1,n)+1;\n",
        "ind2sub1 = @(k)[rem(k-1, n)+1; (k - rem(k-1, n) - 1)/n + 1];\n",
        "sub2ind1 = @(u)(u(2)-1)*n+u(1);\n",
        "Neigh = @(k,i) sub2ind1( boundary(ind2sub1(k)+neigh(:,i)) );\n",
        "\n",
        "\n",
        "I = sub2ind1(x0);%19*40+20\n",
        "%u:distance map\n",
        "u = zeros(n)+Inf;\n",
        "u(I) = 0;\n",
        "\n",
        "[nodex,nodey]=size(u);\n",
        "h=1;\n",
        "\n",
        "[nodex,nodey]=size(u);\n",
        "Order_j = [1:nodex;1:nodex;nodex:-1:1;nodex:-1:1];\n",
        "Order_i = [1:nodey;nodey:-1:1;1:nodey;nodey:-1:1];\n",
        "% Algorithm of sweeping\n",
        "for O = 1:4% different sweeping order\n",
        "for i=Order_i(O,1:50)%y\n",
        "for j=Order_j(O,:)%column\n",
        "% The Gauss Seidel loop\n",
        "% Only carry it out if the node hasn't been set initially\n",
        "if ~(isnan(u(i,j)))\n",
        "if ((i>1) && (i<nodey))\n",
        "uymin = min(u(i-1,j),u(i+1,j));\n",
        "elseif (i==1)\n",
        "uymin = u(2,j);\n",
        "else\n",
        "uymin = u(nodey-1,j);\n",
        "end\n",
        "if ((j>1)&&(j<nodex))\n",
        "uxmin = min(u(i,j-1),u(i,j+1));\n",
        "elseif (j==1)\n",
        "uxmin = u(i,2);\n",
        "else\n",
        "uxmin = u(i,nodex-1);\n",
        "end\n",
        "if (abs(uxmin-uymin)>=h)\n",
        "ubar = min(uxmin,uymin)+h;\n",
        "else\n",
        "ubar = (uxmin+uymin+sqrt(2*h^2-(uxmin-uymin)^2))/2;\n",
        "end\n",
        "u(i,j)=min(u(i,j),ubar);\n",
        "end %if\n",
        "end\n",
        "end\n",
        "end\n",
        "figure;\n",
        "[C,h]=contour(x,y,u)\n",
        "set (h, 'LineWidth', 3);\n",
        "set(gca,'xtick',-1:0.2:1)\n",
        "set(gca,'ytick',[-1:0.2:1])\n",
        "set(gca,'fontsize',18)\n",
        "xlabel('x');\n",
        "ylabel('y')\n",
        "\n",
        "\n",
        "time_elapsed = (time.clock() - time_start)\n",
        "print\n",
        "'timeelapsed', time_elapsed\n",
        "print(\"--- %s seconds ---\" % (time.time() - start_time))\n"
      ],
      "execution_count": null,
      "outputs": []
    },
    {
      "cell_type": "markdown",
      "metadata": {
        "id": "2d-6nfaU5-II"
      },
      "source": [
        "#part 1 python"
      ]
    },
    {
      "cell_type": "code",
      "metadata": {
        "id": "5jdxs9RuVO5B"
      },
      "source": [
        "import cv2\n",
        "img = cv2.imread('/content/map2.bmp')"
      ],
      "execution_count": null,
      "outputs": []
    },
    {
      "cell_type": "code",
      "metadata": {
        "colab": {
          "base_uri": "https://localhost:8080/"
        },
        "id": "RDO_X3qou1MN",
        "outputId": "d969e8df-bb01-48ab-f6cb-0e32dac9ed35"
      },
      "source": [
        "img.shape"
      ],
      "execution_count": null,
      "outputs": [
        {
          "output_type": "execute_result",
          "data": {
            "text/plain": [
              "(500, 500, 3)"
            ]
          },
          "metadata": {
            "tags": []
          },
          "execution_count": 18
        }
      ]
    },
    {
      "cell_type": "code",
      "metadata": {
        "id": "JEm6uB4kBShn"
      },
      "source": [
        "\n",
        "# %The fast sweeping method in two dimensions. \n",
        "\n",
        "# %S. Luo, and J. Qian, \"Fast Sweeping Methods for Factored Anisotropic \n",
        "# %Eikonal Equations: Multiplicative and Additive Factors,\" J Sci Comput 52, 360-382 (2012)\n",
        "# %(a) shows the arrival times after sweeping up-right. \n",
        "# %(b) is an image of the arrival times after a further sweep up-left. \n",
        "# %(c) displays the arrival times, T, after a further sweep down right. \n",
        "# %(d) shows the final state of the arrival times, which is obtained after\n",
        "# %a further sweep down-left. A fifth sweep is required which does not\n",
        "# %update any values for the method to reach its termination condition.\n",
        "# clear \n",
        "# % number of grid\n",
        "\n",
        "\n",
        "\n",
        "\n",
        "# n = 50;\n",
        "\n",
        "# Image size\n",
        "n = img.shape[0]\n",
        "\n",
        "# W = ones(n);\n",
        "\n",
        "# importing package\n",
        "import numpy as np\n",
        "\n",
        "# ctreating a mask of size n\n",
        "# W = np.ones((n,n))\n",
        "\n",
        "# x0=[n/2;n/2];\n",
        "# centre of the image\n",
        "x0 = [n/2,n/2]\n",
        "\n",
        "# % interested domain\n",
        "# x = linspace(-1,1,n);\n",
        "# y = linspace(-1,1,n);\n",
        "\n",
        "# generate 50 values between -1 and 1\n",
        "\n",
        "# x = np.linspace(-1,1,n)\n",
        "\n",
        "# y = np.linspace(-1,1,n)\n",
        "\n",
        "# # [X,Y] = meshgrid(x,y);\n",
        "# # creating a matrix with x and y\n",
        "# [X,Y] = np.meshgrid(x,y)\n",
        "\n",
        "\n",
        "# neigh = [[-1;0] [1;0] [0;1] [0;-1] [-1 ;-1] [1; -1] [-1; 1] [1 ;1]];\n",
        "# # boundary values\n",
        "# neigh = [[-1,0], [1,0], [0,1], [0,-1], [-1 ,-1], [1, -1], [-1, 1], [1 ,1]]\n",
        "\n",
        "# # boundary = @(x)mod(x-1,n)+1;\n",
        "# boundary = lambda x: mod(x - 1, n) + 1\n",
        "\n",
        "# # ind2sub1 = @(k)[rem(k-1, n)+1; (k - rem(k-1, n) - 1)/n + 1];\n",
        "# ind2sub1 = lambda k: ([np.fmod(k - 1, n) + 1, (k - np.fmod(k - 1, n) - 1) / n + 1])\n",
        "\n",
        "# # sub2ind1 = @(u)(u(2)-1)*n+u(1);\n",
        "# # sub2ind1 = lambda z: (z(2) - 1) * n + z(1)\n",
        "\n",
        "# neigh_  = sum(neigh, []) \n",
        "# # Neigh = @(k,i) sub2ind1( boundary(ind2sub1(k)+neigh(:,i)) );\n",
        "# Neigh = lambda k, i: sub2ind1(boundary(ind2sub1(k) + neigh_[i]))\n",
        "\n",
        "\n",
        "# I = sub2ind1(x0);%19*40+20\n",
        "# %u:distance map\n",
        "# u = zeros(n)+Inf;\n",
        "# u(I) = 0; bro audibel??\n",
        "\n",
        "# I = int((x0[1] - 1) * n + x0[0])   #sub2ind1(x0)#19*40+20\n",
        "#u:distance map\n",
        "\n",
        "u = np.zeros((n,n)) + np.inf\n",
        "#center point of grid\n",
        "u[438, 23] = 0\n",
        "\n",
        "# [nodex,nodey]=size(u);\n",
        "\n",
        "[nodex, nodey] = u.shape\n",
        "\n",
        "# h=1;\n",
        "# equidistant step size between the grid points\n",
        "h = 1\n",
        "\n",
        "# Order_j = [1:nodex;1:nodex;nodex:-1:1;nodex:-1:1];\n",
        "# Order_j = [range(1,nodex + 1),range(1,nodex + 1), range(1,nodex + 1)[::-1], range(1,nodex + 1)[::-1]]\n",
        "#list to iterate for sweeps\n",
        "Order_j = [range(nodex),range(nodex),range(nodex)[::-1],range(nodex)[::-1]]\n",
        "Order_i = [range(nodey),range(nodey)[::-1],range(nodey),range(nodey)[::-1]]\n",
        "\n",
        "\n",
        "# Order_i = [1:nodey;nodey:-1:1;1:nodey;nodey:-1:1];\n",
        "# Order_i = [range(1,nodey + 1),range(1,nodey + 1), range(1,nodey + 1)[::-1], range(1,nodey + 1)[::-1]]\n",
        "\n",
        "\n",
        "# % Algorithm of sweeping\n",
        "# for O = 1:4% different sweeping order\n",
        "# for i=Order_i(O,1:50)%y\n",
        "# for j=Order_j(O,:)%column\n",
        "# % The Gauss Seidel loop\n",
        "# % Only carry it out if the node hasn't been set initially\n",
        "# if ~(isnan(u(i,j)))\n",
        "# if ((i>1) && (i<nodey))\n",
        "# uymin = min(u(i-1,j),u(i+1,j));\n",
        "# elseif (i==1)\n",
        "# uymin = u(2,j);\n",
        "# else\n",
        "# uymin = u(nodey-1,j);\n",
        "# end\n",
        "# if ((j>1)&&(j<nodex))\n",
        "# uxmin = min(u(i,j-1),u(i,j+1));\n",
        "# elseif (j==1)\n",
        "# uxmin = u(i,2);\n",
        "# else\n",
        "# uxmin = u(i,nodex-1);\n",
        "# end\n",
        "# if (abs(uxmin-uymin)>=h)\n",
        "# ubar = min(uxmin,uymin)+h;\n",
        "# else\n",
        "# ubar = (uxmin+uymin+sqrt(2*h^2-(uxmin-uymin)^2))/2;\n",
        "# end\n",
        "# u(i,j)=min(u(i,j),ubar);\n",
        "# end %if\n",
        "# end\n",
        "# end\n",
        "# end\n",
        "# figure;\n",
        "# [C,h]=contour(x,y,u)\n",
        "# set (h, 'LineWidth', 3);\n",
        "# set(gca,'xtick',-1:0.2:1)\n",
        "# set(gca,'ytick',[-1:0.2:1])\n",
        "# set(gca,'fontsize',18)\n",
        "# xlabel('x');\n",
        "# ylabel('y')\n",
        "import matplotlib.pyplot as plt\n"
      ],
      "execution_count": null,
      "outputs": []
    },
    {
      "cell_type": "code",
      "metadata": {
        "id": "emGF4OdlVRm0"
      },
      "source": [
        "# x0 = [img.shape[0]//2, img.shape[1]//2]\n",
        "\n",
        "# img[img.shape[0]//2, img.shape[1]//2] = 0\n",
        "# img2gray = cv2.cvtColor(img, cv2.COLOR_BGR2GRAY)\n",
        "# ret, mask = cv2.threshold(img2gray, 254, 255, cv2.THRESH_BINARY_INV)\n",
        "# u = img2gray.copy()\n",
        "\n",
        "# [nodex, nodey] = mask.shape\n",
        "# h = 1\n",
        "# Order_j = [range(nodex),range(nodex),range(nodex)[::-1],range(nodex)[::-1]]\n",
        "# Order_i = [range(nodey),range(nodey)[::-1],range(nodey),range(nodey)[::-1]]"
      ],
      "execution_count": null,
      "outputs": []
    },
    {
      "cell_type": "code",
      "metadata": {
        "id": "wvrTcYhjetww"
      },
      "source": [
        ""
      ],
      "execution_count": null,
      "outputs": []
    },
    {
      "cell_type": "code",
      "metadata": {
        "id": "8BaM3gRiHJmM",
        "colab": {
          "base_uri": "https://localhost:8080/"
        },
        "outputId": "0fddb0af-9818-4607-db76-6cf861807278"
      },
      "source": [
        "import math\n",
        "import numpy as np\n",
        "for O in range(0,4):# different sweeping order\n",
        "    for i in Order_i[O]:    #y\n",
        "        for j in Order_j[O]:#column\n",
        "            # The Gauss Seidel loop\n",
        "            # Only carry it out if the node hasn't been set initially\n",
        "            if not (np.isnan(u[i, j])):  #if pixel value is present\n",
        "            \n",
        "                if ((i > 0) and (i < nodey - 1)):  #if not on boundary\n",
        "                    uymin = min(u[i - 1, j], u[i + 1, j])\n",
        "                elif (i == 0):\n",
        "                    uymin = u[2, j]\n",
        "                else:\n",
        "                    uymin = u[nodey - 1, j]\n",
        "                \n",
        "                if ((j > 0) and (j < nodex - 1)):\n",
        "                    uxmin = min(u[i, j - 1], u[i, j + 1])\n",
        "                elif (j == 0):\n",
        "                    uxmin = u[i, 2]\n",
        "                else:\n",
        "                    uxmin = u[i, nodex - 1]\n",
        "                \n",
        "                if (abs(uxmin - uymin) >= h):\n",
        "                    ubar = min(uxmin, uymin) + h\n",
        "                else:\n",
        "                    ubar = (uxmin + uymin + math.sqrt(2 * h ** 2 - (uxmin - uymin) ** 2)) / 2\n",
        "                \n",
        "                u[i, j] = min(u[i, j], ubar)\n",
        "                    #if\n",
        " \n",
        " "
      ],
      "execution_count": null,
      "outputs": [
        {
          "output_type": "stream",
          "text": [
            "/usr/local/lib/python3.6/dist-packages/ipykernel_launcher.py:24: RuntimeWarning: invalid value encountered in double_scalars\n",
            "/usr/local/lib/python3.6/dist-packages/ipykernel_launcher.py:27: RuntimeWarning: invalid value encountered in double_scalars\n"
          ],
          "name": "stderr"
        }
      ]
    },
    {
      "cell_type": "code",
      "metadata": {
        "id": "jhYxpoATKcqw",
        "colab": {
          "base_uri": "https://localhost:8080/",
          "height": 269
        },
        "outputId": "db5a68b9-cab1-46a6-c8e4-b1d46ee7c776"
      },
      "source": [
        "\n",
        "import matplotlib.pyplot as plt\n",
        "\n",
        "import numpy as np \n",
        " # sample 2D array \n",
        "plt.imshow(u, cmap=\"gray\") \n",
        "plt.show() "
      ],
      "execution_count": null,
      "outputs": [
        {
          "output_type": "display_data",
          "data": {
            "image/png": "[encoded data removed]",
            "text/plain": [
              "<Figure size 432x288 with 1 Axes>"
            ]
          },
          "metadata": {
            "tags": [],
            "needs_background": "light"
          }
        }
      ]
    },
    {
      "cell_type": "code",
      "metadata": {
        "id": "XG5jLU5BRqIS",
        "colab": {
          "base_uri": "https://localhost:8080/",
          "height": 517
        },
        "outputId": "7028cba6-8a48-400c-c3c8-1fc6a11fcd60"
      },
      "source": [
        "#!pip install scikit-fmm\n",
        "import numpy as np\n",
        "# import pylab as plt\n",
        "#import skfmm\n",
        "import math\n",
        "from math import sqrt, pi\n",
        "from numpy import sin, cos, exp\n",
        "import numpy as np\n",
        "import matplotlib.pyplot as plt\n",
        "import cv2\n",
        "from google.colab.patches import cv2_imshow\n",
        "import time \n",
        "\n",
        "rows, cols, chamels = img.shape\n",
        "roi = img[0:rows, 0:cols]\n",
        "\n",
        "\n",
        "img2gray = cv2.cvtColor(img, cv2.COLOR_BGR2GRAY)\n",
        "# print img2gray\n",
        "ret, mask = cv2.threshold(img2gray, 254, 255, cv2.THRESH_BINARY_INV)\n",
        "\n",
        "cv2_imshow(mask)"
      ],
      "execution_count": null,
      "outputs": [
        {
          "output_type": "display_data",
          "data": {
            "image/png": "[encoded data removed]",
            "text/plain": [
              "<PIL.Image.Image image mode=L size=500x500 at 0x7FA73C6C8DD8>"
            ]
          },
          "metadata": {
            "tags": []
          }
        }
      ]
    },
    {
      "cell_type": "code",
      "metadata": {
        "id": "6HOIqHaIw3QA"
      },
      "source": [
        "white = []\n",
        "for i in range(mask.shape[0]):\n",
        "    for j in range(mask.shape[1]):\n",
        "        if mask[i][j] == 255:\n",
        "            white.append([i,j])\n"
      ],
      "execution_count": null,
      "outputs": []
    },
    {
      "cell_type": "code",
      "metadata": {
        "id": "E16ntWlKxU-i"
      },
      "source": [
        "temp = u.copy()\n",
        "for i in white:\n",
        "    u[i[0]][i[1]] = np.inf"
      ],
      "execution_count": null,
      "outputs": []
    },
    {
      "cell_type": "code",
      "metadata": {
        "colab": {
          "base_uri": "https://localhost:8080/",
          "height": 269
        },
        "id": "1-f7kpZ3xe2Z",
        "outputId": "363475a6-def1-4782-b6f2-1c1ebcc94a23"
      },
      "source": [
        "\n",
        "import matplotlib.pyplot as plt\n",
        "\n",
        "import numpy as np \n",
        " # sample 2D array \n",
        "plt.imshow(u, cmap=\"gray\") \n",
        "\n",
        "plt.show() "
      ],
      "execution_count": null,
      "outputs": [
        {
          "output_type": "display_data",
          "data": {
            "image/png": "[encoded data removed]",
            "text/plain": [
              "<Figure size 432x288 with 1 Axes>"
            ]
          },
          "metadata": {
            "tags": [],
            "needs_background": "light"
          }
        }
      ]
    },
    {
      "cell_type": "code",
      "metadata": {
        "colab": {
          "base_uri": "https://localhost:8080/",
          "height": 269
        },
        "id": "CxeWOdc9yL5z",
        "outputId": "138a00b1-147c-4e05-eb5d-3194258ef4b8"
      },
      "source": [
        "Tx = 23\n",
        "Ty = 438\n",
        "#blue\n",
        "ix = xpos = 314\n",
        "iy = ypos = 16\n",
        "m = 0\n",
        "n = 0\n",
        "distance = sqrt((xpos - Tx) ** 2 + (ypos - Ty) ** 2)\n",
        "position = (xpos, ypos)\n",
        "import matplotlib.pyplot as plt\n",
        "\n",
        "import numpy as np \n",
        " # sample 2D array \n",
        "plt.imshow(u, cmap=\"gray\") \n",
        "#edit\n",
        "\n",
        "\n",
        "\n",
        "#edit\n",
        "\n",
        "plt.plot(xpos, ypos, 'bs')\n",
        "plt.plot(Tx, Ty, 'rs')\n",
        "plt.show() "
      ],
      "execution_count": null,
      "outputs": [
        {
          "output_type": "display_data",
          "data": {
            "image/png": "[encoded data removed]",
            "text/plain": [
              "<Figure size 432x288 with 1 Axes>"
            ]
          },
          "metadata": {
            "tags": [],
            "needs_background": "light"
          }
        }
      ]
    },
    {
      "cell_type": "code",
      "metadata": {
        "colab": {
          "base_uri": "https://localhost:8080/",
          "height": 1000
        },
        "id": "ojARNeOZxmYE",
        "outputId": "101aaf8e-d0e2-489c-fb33-077f7e7f166b"
      },
      "source": [
        "# fast marching\n",
        "path = [[], []]\n",
        "pathlength =0\n",
        "li = []\n",
        "def dist(x, y):\n",
        "    distance = u[x][y]\n",
        "    return distance\n",
        "while distance > 10:\n",
        "\n",
        "    value = []\n",
        "    index = []\n",
        "    position = (xpos, ypos)\n",
        "\n",
        "    for M in range(-6, 7, 6):\n",
        "        for N in range(-6, 7, 6):\n",
        "            m = xpos + M\n",
        "            n = ypos + N\n",
        "            P = dist(n, m)\n",
        "            if P > 0:\n",
        "                value.append(P)\n",
        "            else:\n",
        "                value.append(10)\n",
        "            # plt.plot(m,n,'ro')\n",
        "            index.append((M, N))\n",
        "\n",
        "    # path[0].append(m)\n",
        "    # path[1].append(n)\n",
        "    print('position :', position)\n",
        "\n",
        "    # plt.plot(xpos,ypos,'go')\n",
        "    N = np.argmin(value)\n",
        "\n",
        "\n",
        "    print('distance:', distance)\n",
        "    # xindex = N / 6\n",
        "    # yindex = N % 6\n",
        "\n",
        "    m = xpos\n",
        "    n = ypos\n",
        "\n",
        "    xpos = xpos + index[N][0]\n",
        "    ypos = ypos + index[N][1]\n",
        "    li.append([[xpos, m], [ypos, n]])\n",
        "    line, = plt.plot([xpos, m], [ypos, n], 'green', lw=2)\n",
        "    distance = sqrt((xpos - Tx) ** 2 + (ypos - Ty) ** 2)\n",
        "    # print(xindex, yindex)\n",
        "    pathlength+=sqrt((xpos - m) ** 2 + (ypos - n) ** 2)\n",
        "'''\n",
        "time_elapsed = (time.clock() - time_start)\n",
        "print\n",
        "'timeelapsed', time_elapsed\n",
        "print(\"--- %s seconds ---\" % (time.time() - start_time))\n",
        "\n",
        "print\n",
        "path[0], path[1]'''\n",
        "print ('pathlength :',pathlength)\n",
        "plt.title(pathlength)\n",
        "plt.gca().invert_yaxis()\n",
        "plt.show()\n",
        "cv2.waitKey(0)\n",
        "# cv2.destroyAllWindows()\n",
        "plt.savefig('plot.png')\n",
        "plt.show()\n"
      ],
      "execution_count": null,
      "outputs": [
        {
          "output_type": "stream",
          "text": [
            "position : (314, 16)\n",
            "distance: 512.6060865811096\n",
            "position : (308, 22)\n",
            "distance: 504.26282829492794\n",
            "position : (302, 28)\n",
            "distance: 495.9243893982227\n",
            "position : (296, 34)\n",
            "distance: 487.5910171444917\n",
            "position : (290, 40)\n",
            "distance: 479.26297582851106\n",
            "position : (284, 46)\n",
            "distance: 470.9405482648526\n",
            "position : (278, 52)\n",
            "distance: 462.62403742131687\n",
            "position : (272, 52)\n",
            "distance: 459.34409760004536\n",
            "position : (266, 58)\n",
            "distance: 451.05321193845856\n",
            "position : (260, 64)\n",
            "distance: 442.76969182634895\n",
            "position : (254, 70)\n",
            "distance: 434.493958531071\n",
            "position : (248, 76)\n",
            "distance: 426.22646562596276\n",
            "position : (242, 82)\n",
            "distance: 417.96770210149015\n",
            "position : (236, 88)\n",
            "distance: 409.71819583709\n",
            "position : (230, 94)\n",
            "distance: 401.47851748256716\n",
            "position : (224, 100)\n",
            "distance: 393.24928480545265\n",
            "position : (218, 106)\n",
            "distance: 385.0311675695878\n",
            "position : (212, 112)\n",
            "distance: 376.8248930206177\n",
            "position : (206, 118)\n",
            "distance: 368.6312520663434\n",
            "position : (200, 124)\n",
            "distance: 360.4511062543712\n",
            "position : (194, 130)\n",
            "distance: 352.28539566663846\n",
            "position : (188, 136)\n",
            "distance: 344.13514787071665\n",
            "position : (182, 142)\n",
            "distance: 336.0014880919428\n",
            "position : (176, 148)\n",
            "distance: 327.88565079917726\n",
            "position : (170, 154)\n",
            "distance: 319.7889929312765\n",
            "position : (164, 160)\n",
            "distance: 311.7130090323469\n",
            "position : (158, 166)\n",
            "distance: 303.65934861288235\n",
            "position : (152, 172)\n",
            "distance: 295.62983611266304\n",
            "position : (146, 178)\n",
            "distance: 287.6264939118092\n",
            "position : (140, 184)\n",
            "distance: 279.6515689210415\n",
            "position : (134, 190)\n",
            "distance: 271.7075633838705\n",
            "position : (128, 196)\n",
            "distance: 263.79727064547126\n",
            "position : (122, 202)\n",
            "distance: 255.92381678929377\n",
            "position : (116, 208)\n",
            "distance: 248.09070921741508\n",
            "position : (110, 214)\n",
            "distance: 240.3018934590404\n",
            "position : (104, 220)\n",
            "distance: 232.56181973832247\n",
            "position : (98, 226)\n",
            "distance: 224.87552112224222\n",
            "position : (92, 232)\n",
            "distance: 217.24870540465827\n",
            "position : (86, 238)\n",
            "distance: 209.68786326347075\n",
            "position : (86, 244)\n",
            "distance: 203.9730374338726\n",
            "position : (80, 250)\n",
            "distance: 196.45101170520857\n",
            "position : (74, 256)\n",
            "distance: 189.01058171435798\n",
            "position : (68, 262)\n",
            "distance: 181.66177363441105\n",
            "position : (62, 268)\n",
            "distance: 174.4161689752415\n",
            "position : (56, 274)\n",
            "distance: 167.28717822953436\n",
            "position : (50, 280)\n",
            "distance: 160.29036153181514\n",
            "position : (50, 286)\n",
            "distance: 154.37940277122465\n",
            "position : (44, 292)\n",
            "distance: 147.50254235097103\n",
            "position : (44, 298)\n",
            "distance: 141.56623891309678\n",
            "position : (38, 304)\n",
            "distance: 134.8369385591352\n",
            "position : (38, 310)\n",
            "distance: 128.87590930814028\n",
            "position : (38, 316)\n",
            "distance: 122.9186723000212\n",
            "position : (38, 322)\n",
            "distance: 116.96580696938743\n",
            "position : (38, 328)\n",
            "distance: 111.01801655587259\n",
            "position : (38, 334)\n",
            "distance: 105.07616285342742\n",
            "position : (38, 340)\n",
            "distance: 99.14131328563285\n",
            "position : (38, 346)\n",
            "distance: 93.2148056909416\n",
            "position : (38, 352)\n",
            "distance: 87.29833904490967\n",
            "position : (38, 358)\n",
            "distance: 81.39410298049853\n",
            "position : (38, 364)\n",
            "distance: 75.50496672405067\n",
            "position : (32, 370)\n",
            "distance: 68.59300255857006\n",
            "position : (26, 376)\n",
            "distance: 62.07253821135398\n",
            "position : (20, 382)\n",
            "distance: 56.08029957123981\n",
            "position : (20, 388)\n",
            "distance: 50.08991914547278\n",
            "position : (20, 394)\n",
            "distance: 44.10215414239989\n",
            "position : (20, 400)\n",
            "distance: 38.118237105091836\n",
            "position : (20, 406)\n",
            "distance: 32.14031735997639\n",
            "position : (20, 412)\n",
            "distance: 26.1725046566048\n",
            "position : (20, 418)\n",
            "distance: 20.223748416156685\n",
            "position : (20, 424)\n",
            "distance: 14.317821063276353\n",
            "pathlength : 539.2935059634517\n"
          ],
          "name": "stdout"
        },
        {
          "output_type": "display_data",
          "data": {
            "image/png": "[encoded data removed]",
            "text/plain": [
              "<Figure size 432x288 with 1 Axes>"
            ]
          },
          "metadata": {
            "tags": [],
            "needs_background": "light"
          }
        },
        {
          "output_type": "display_data",
          "data": {
            "text/plain": [
              "<Figure size 432x288 with 0 Axes>"
            ]
          },
          "metadata": {
            "tags": []
          }
        }
      ]
    },
    {
      "cell_type": "code",
      "metadata": {
        "id": "6JDC0uuL6D4Y"
      },
      "source": [
        ""
      ],
      "execution_count": null,
      "outputs": []
    },
    {
      "cell_type": "code",
      "metadata": {
        "id": "oE93G15g6D2Q",
        "colab": {
          "base_uri": "https://localhost:8080/"
        },
        "outputId": "c99462b8-bc48-48c8-c8a7-e8980878acd7"
      },
      "source": [
        "\n"
      ],
      "execution_count": null,
      "outputs": [
        {
          "output_type": "stream",
          "text": [
            "100\n"
          ],
          "name": "stdout"
        }
      ]
    },
    {
      "cell_type": "code",
      "metadata": {
        "id": "6F2O_A-A6D0n"
      },
      "source": [
        ""
      ],
      "execution_count": null,
      "outputs": []
    },
    {
      "cell_type": "code",
      "metadata": {
        "id": "oIa906h66Dy0"
      },
      "source": [
        ""
      ],
      "execution_count": null,
      "outputs": []
    },
    {
      "cell_type": "code",
      "metadata": {
        "id": "Q_C2t45I6DqM"
      },
      "source": [
        ""
      ],
      "execution_count": null,
      "outputs": []
    },
    {
      "cell_type": "code",
      "metadata": {
        "id": "87Ra7-01LJmx"
      },
      "source": [
        "# can you see this little shit??"
      ],
      "execution_count": null,
      "outputs": []
    },
    {
      "cell_type": "markdown",
      "metadata": {
        "id": "Cf6IzksW6Jst"
      },
      "source": [
        "# part 2 OMPC"
      ]
    },
    {
      "cell_type": "code",
      "metadata": {
        "id": "HZw-RKYP6L81"
      },
      "source": [
        ""
      ],
      "execution_count": null,
      "outputs": []
    },
    {
      "cell_type": "markdown",
      "metadata": {
        "id": "yHcPwxtt6E9j"
      },
      "source": [
        "# part 2 VIRGIN MATLAB"
      ]
    },
    {
      "cell_type": "code",
      "metadata": {
        "id": "5xQRnJla209A",
        "colab": {
          "base_uri": "https://localhost:8080/",
          "height": 229
        },
        "outputId": "f9eb4714-6497-4151-c4fb-80f11f230be0"
      },
      "source": [
        "\n",
        "# %FAST SWEEPING ALGORITHMS FOR A CLASS OF HAMILTON¡VJACOBI EQUATIONS\n",
        "# %SIAM J. NUMER. ANAL. c\u0002 2003 Society for Industrial and Applied Mathematics\n",
        "# %Vol. 41, No. 2, pp. 673¡V694\n",
        "# % [D,L1error,X,Y,Errorscat]=Sweep_anisotropic(101,2,2);\n",
        "# %D: time map \n",
        "# %Bx, By: boundary \n",
        "# % metric tensor = [a,c;c,b]\n",
        "import numpy as np\n",
        "# function [D,L1error,X,Y,Errorscat2] = Sweep_anisotropic(gridnum,Bx,By)\n",
        "# %clear \n",
        "n=50\n",
        "l=2\n",
        "w=2\n",
        "Bx=2\n",
        "By=2\n",
        "x = np.linspace(-Bx,Bx,n)\n",
        "y = np.linspace(By,-By,n)\n",
        "[X,Y] = np.meshgrid(x,y)\n",
        "\n",
        "\n",
        "    \n",
        "# neigh = [[-1;0] [1;0] [0;1] [0;-1] [-1 ;-1] [1; -1] [-1; 1] [1 ;1]];\n",
        "neigh = [[-1,0], [1,0], [0,1], [0,-1], [-1 ,-1], [1, -1], [-1, 1], [1 ,1]]\n",
        "\n",
        "\n",
        "# ind2sub1 = @(k)[rem(k-1, n)+1; (k - rem(k-1, n) - 1)/n + 1];\n",
        "ind2sub1 = lambda k: ([np.fmod(k - 1, n) + 1, (k - np.fmod(k - 1, n) - 1) / n + 1])\n",
        "\n",
        "# boundary = @(x)mod(x-1,n)+1;\n",
        "boundary = lambda x: mod(x - 1, n) + 1\n",
        "\n",
        "# ind2sub1 = @(k)[rem(k-1, n)+1; (k - rem(k-1, n) - 1)/n + 1];\n",
        "ind2sub1 = lambda k: ([np.fmod(k - 1, n) + 1, (k - np.fmod(k - 1, n) - 1) / n + 1])\n",
        "\n",
        "# sub2ind1 = @(u)(u(2)-1)*n+u(1);\n",
        "\n",
        "neigh_  = sum(neigh, []) \n",
        "# Neigh = @(k,i) sub2ind1( boundary(ind2sub1(k)+neigh(:,i)) );\n",
        "Neigh = lambda k, i: sub2ind1(boundary(ind2sub1(k) + neigh_[i]))\n",
        "\n",
        "\n",
        "# I=find(X==0 & Y== 0);\n",
        "I = np.where(X.any() == 0 and Y.any() == 0) # DOUBT\n",
        "\n",
        "# D = zeros(n)+Inf;\n",
        "D = np.zeros(n) + np.Inf\n",
        "\n",
        "# D(I) = 0;\n",
        "D[I] = 0\n",
        "\n",
        "\n",
        "# %reference point:four corner\n",
        "# % refere = [(n+1)/2,(n+1)/2];\n",
        "\n",
        "# refere = [1,1;size(X,1),1;1 size(X,2);size(X,1) size(X,2)];\n",
        "refere = [[1,1],[X.shape[0],1],[1,X.shape[0]],[X.shape[0], X.shape[1]]]\n",
        "\n",
        "SweepDir = {}\n",
        "# for Seild = 1:size(refere,1)\n",
        "for Seild in range(len(refere)):\n",
        "    \n",
        "    # l2metric = sqrt((X-X(refere(Seild,1),refere(Seild,2))).^2+(Y-Y(refere(Seild,1),refere(Seild,2))).^2);\n",
        "    l2metric = np.sqrt(( X - X[refere[Seild][0],refere[Seild][1]]) ** 2 + (Y - Y[refere[Seild][0], refere[Seild][1]]) ** 2)\n",
        "    \n",
        "    \n",
        "    # l2metric = reshape(l2metric,1,size(l2metric,1)*size(l2metric,2));\n",
        "    l2metric.resize(1, l2metric.shape[0] * l2metric.shape[0])\n",
        "    \n",
        "    # [l2Order,l2index]= sort(l2metric);\n",
        "    l2index = np.argsort(l2metric)\n",
        "    l2Order = l2metric[0][l2index]\n",
        "    l2.index.shape\n",
        "\n",
        "    # [iniPosrr,iniPoscc] = find(l2index == I);\n",
        "    iniPoscc = np.where(l2index == I)\n",
        "    \n",
        "    # l2index(iniPoscc) = [];\n",
        "    l2index[iniPoscc] = []\n",
        "\n",
        "    # SweepDir{Seild}=l2index;%Sweeping direction\n",
        "    SweepDir[Seild] = l2index\n",
        "\n",
        "    \n",
        "# end\n",
        "\n",
        "# L1error = [Inf Inf];\n",
        "L1error = [np.Inf, np.inf]\n",
        " \n",
        "import time\n",
        "\n",
        "# while (isnan(L1error(end)) | isinf(L1error(end)) | abs(L1error(end)-L1error(length(L1error)-1)) >10^-10)\n",
        "while (np.isnan(L1error[-1]) or np.inf(L1error[-1]) or abs(L1error[-1] - L1error(len(L1error) - 1)) > 10 ** -10):\n",
        "\n",
        "    # Dn=D;\n",
        "    Dn = D\n",
        "\n",
        "    # tic\n",
        "    start = time.time()\n",
        "\n",
        "    # for Sweep =1:4 \n",
        "    for Sweep in range(1,5):  \n",
        "\n",
        "        # %for ii=2:length(l2index)%29:-1:1%29:nodex\n",
        "\n",
        "        # tt = SweepDir{Sweep};\n",
        "        tt = SweepDir[Sweep]\n",
        "\n",
        "        # for ii=1:size(SweepDir{Sweep},2)\n",
        "        for ii in range(SweepDir[Sweep], 3):\n",
        "\n",
        "            # i = tt(ii);\n",
        "            i = tt[ii]\n",
        "\n",
        "            # %ind2sub1(i);\n",
        "\n",
        "            # posxm = ind2sub1(i);\n",
        "            posxm = ind2sub1(i)\n",
        "\n",
        "            # Tabc = [];\n",
        "            Tabc = []\n",
        "\n",
        "\n",
        "            # xm=[8 2;3 8; 3 7;7 1; 5 1; 4 5;4 6; 6 2];\n",
        "            xm = [[8,2],[3,8],[3,7],[7,1],[5,1],[4,5],[4,6],[6,2]]\n",
        "\n",
        "            # if posxm(1)>1 && posxm(1)<n && posxm(2)>1 &&posxm(2)<n\n",
        "            if posxm[0] > 1 and posxm[0] < n and posxm[1] > 1 and posxm[1] < n:\n",
        "\n",
        "                # SS = 1:8;\n",
        "                SS = range(1,9)\n",
        "\n",
        "            # elseif posxm(1)==1 && posxm(2)==1\n",
        "            elif posxm[0] == 1 and posxm[1] == 1:\n",
        "\n",
        "                # SS = [1 2];\n",
        "                SS = [2,2]\n",
        "\n",
        "            # elseif posxm(1)==1 && posxm(2)==n\n",
        "            elif posxm [0] == 1 and posxm[1] == n:\n",
        "\n",
        "                # SS = [7 8];\n",
        "                SS = [7,8]\n",
        "\n",
        "            # elseif posxm(1)==n && posxm(2)==1\n",
        "            elif posxm[0] == n and posxm[1] == 1:\n",
        "\n",
        "                # SS = [3 4];\n",
        "                SS = [3,4]\n",
        "\n",
        "            # elseif posxm(1)==n && posxm(2)==n\n",
        "            elif posxm[0] == n and posxm[1] == n:\n",
        "\n",
        "                # SS = [5 6];\n",
        "                SS = [5,6]\n",
        "\n",
        "            # elseif posxm(1)==1\n",
        "            elif posxm[0] == 1:\n",
        "\n",
        "                # SS = [1 2 7 8];\n",
        "                SS = [1,2,7,8]\n",
        "\n",
        "            # elseif posxm(1)==n\n",
        "            elif posxm[0] == n:\n",
        "\n",
        "                # SS = [3 4 5 6];\n",
        "                SS = [3,4,5,6]\n",
        "\n",
        "            # elseif posxm(2)==1\n",
        "            elif posxm[1] == 1:\n",
        "\n",
        "                # SS = [1 2 3 4];\n",
        "                SS = [1,2,3,4]\n",
        "\n",
        "            # elseif posxm(2)==n\n",
        "            elif posxm[1] == n:\n",
        "\n",
        "                # SS = [5 6 7 8];\n",
        "                SS = [5,6,7,8]\n",
        "\n",
        "            # end\n",
        "\n",
        "            # for j= SS\n",
        "            for j in SS:\n",
        "\n",
        "                # %i = sub2ind1([51,50]);    \n",
        "                # % for j = 1\n",
        "\n",
        "                # uABC = [];\n",
        "                uABC = []\n",
        "\n",
        "                # xa = X(Neigh(i,xm(j,1)));\n",
        "                xa = X[Neigh[i,xm[j,1]]]\n",
        "                \n",
        "                # xb = X(Neigh(i, xm(j,2)));\n",
        "                xb = X[Neigh[i,xm[j,2]]]\n",
        "\n",
        "                # ya = Y(Neigh(i,xm(j,1)));\n",
        "                ya = Y[Neigh[i,xm[j,1]]]\n",
        "\n",
        "                # yb = Y(Neigh(i, xm(j,2)));\n",
        "                yb = Y[Neigh[i,xm[j,2]]]\n",
        "\n",
        "                # xc = X(i); yc = Y(i);\n",
        "                xc = X[i]\n",
        "                yc = Y[i]\n",
        "\n",
        "                # %xc=4.5;yc=2\n",
        "\n",
        "                # a =1;\n",
        "                a = 1\n",
        "\n",
        "                # c= 0.9;\n",
        "                c = 0.9\n",
        "\n",
        "                # b= 1;\n",
        "                b = 1\n",
        "\n",
        "                # M = [a -c;-c b];%anisotropic metric\n",
        "                M = [[a, -c],[-c, b]]\n",
        "\n",
        "                # Tc = D(i);Ta = D(Neigh(i,xm(j,1))); Tb = D(Neigh(i, xm(j,2)));\n",
        "                Tc = D[i]\n",
        "                Ta = D[Neigh[i,xm[j,1]]]\n",
        "                Tb = D[Neigh[i,xm[j,2]]]\n",
        "\n",
        "                # la = sqrt( (xc-xb)^2+(yc-yb)^2 );\n",
        "                la = np.sqrt([xc - xb][0] ** 2 + [yc - yb][0] ** 2)\n",
        "\n",
        "                # lb = sqrt( (xc-xa)^2+(yc-ya)^2 );\n",
        "                lb = np.sqrt([xc - xa][0] ** 2 + [yc - ya][0] ** 2)\n",
        "\n",
        "                # lc = sqrt( (xb-xa)^2+(yb-ya)^2 );\n",
        "                lc = np.sqrt([xb - xa][0] ** 2 + [yb - ya][0] ** 2)\n",
        "\n",
        "                # n11=(xc-xa)/lb;n12 = (yc-ya)/lb;\n",
        "                n11 = [xc - xa][0] / lb\n",
        "                n12 = [yc - ya][0] / lb\n",
        "\n",
        "                # n21 = (xc-xb)/la;n22= (yc-yb)/la;\n",
        "                n21 = [xc - xb][0] / la\n",
        "                n22 = [yc - yb][0] / la\n",
        "\n",
        "                # r = acos((la^2+lb^2-lc^2)/2/la/lb);\n",
        "                r = np.arccos([la ** 2 + lb ** 2 - lc ** 2][0] / 2 / la / lb)\n",
        "\n",
        "                # Pinv = 1/sin(r)^2*[n11-n21*cos(r),n21-n11*cos(r);n12-n22*cos(r),n22-n12*cos(r)];\n",
        "                vv = 1 / np.sin(r) ** 2\n",
        "                Pinv = []\n",
        "                asas = [[n11 - n21 * cos(r), n21 - n11 * np.cos(r)],[n12 - n22 * np.cos(r), n22 - n12 * cos(r)]]\n",
        "                for i in asas:\n",
        "                    temp = []\n",
        "                    for j in i:\n",
        "                        temp.append(j * vv)\n",
        "                    Pinv.append(temp)\n",
        "\n",
        "                # g1 = Pinv(1)/lb+Pinv(3)/la;\n",
        "                g1 = Pinv[0] / lb + Pinv[2] / la\n",
        "\n",
        "                # g2 = -(Pinv(1)/lb*Ta+ Pinv(3)/la*Tb);\n",
        "                g2 = -[Pinv[0] / lb * Ta + Pinv[2] / la * Tb]\n",
        "\n",
        "                # g3 = (Pinv(2)/lb+Pinv(4)/la);\n",
        "                g3 = [Pinv[1] / lb + Pinv[3] / la]\n",
        "\n",
        "                # g4 = -(Pinv(2)/lb*Ta+ Pinv(4)/la*Tb);\n",
        "                g4 = -[Pinv[1] / lb * Ta + Pinv[3] / la * Tb]\n",
        "\n",
        "                # w1 = a*g1^2+b*g3^2-2*c*g1*g3;\n",
        "                w1 = a * g1 ** 2 + b * g3 ** 2 * c * g1 * g3\n",
        "\n",
        "                # w2 = 2*a*g1*g2+2*b*g3*g4-2*c*(g1*g4+g2*g3);\n",
        "                w2 = 2 * a * g1 * g2 + 2 * b * g3 * g4 - 2 * c * [g1 * g4][0]\n",
        "\n",
        "                # w3 = a*g2^2+b*g4^2-2*c*g2*g4;\n",
        "                w3 = a * g2 ** 2 + b * g4 ** 2 - 2 * c * g2 * g4\n",
        "\n",
        "                # TC = [ (-w2+sqrt(w2^2-4*w1*(w3-1)) )/2/w1,(-w2-sqrt(w2^2-4*w1*(w3-1)) )/2/w1 ];\n",
        "                TC = [(-w2 * np.sqrt(w2 ** 2 - 4 * w1 * (w3 - 1))) / 2 / w1, (-w2 - np.sqrt(w2 ** 2 - 4 * w1 * (w3 - 1))) / 2 / w1]\n",
        "\n",
        "                # %check for two root\n",
        "\n",
        "                # for kk = 1:2\n",
        "                for kk in range(0,2):\n",
        "\n",
        "                    # % kk=2\n",
        "\n",
        "                    # if  w2^2-4*w1*(w3-1)>0 && TC(kk)>0\n",
        "                    if w2 ** 2 - 4 * w1 * (w3 - 1) > 0 and TC[kk] > 0:\n",
        "\n",
        "                        # %isreal(TC(kk)) ==1 && TC(kk)>0 && isnan(TC(kk))~=1 && isinf(TC(kk))~=1 \n",
        "                        # pq = [g1*TC(kk)+g2; g3*TC(kk)+g4];%Pinv*[(Tc(kk)-TA)/lb; (Tc(kk)-TB)/la ];\n",
        "                        pq = [g1 * TC[kk] + g2, g3 * TC[kk] + g4]\n",
        "\n",
        "                        # d = M*pq;\n",
        "                        d = M * pq\n",
        "\n",
        "                    # %if d(2)/d(1)< max([(yc-yb)/(xc-xb),(yc-ya)/(xc-xa)]) && d(2)/d(1)>min((yc-yb)/(xc-xb),(yc-ya)/(xc-xa)) && d(2)< max([yc-yb,yc-ya]) && d(2)>min([yc-yb,yc-ya])\n",
        "                    # if j==1 && d(2)>0 && d(1)<0\n",
        "                    if j == 1 and d[1] > 0 and d[0] < 0:\n",
        "\n",
        "                        # Dir  = 1;\n",
        "                        Dir = 1\n",
        "\n",
        "                    # elseif  j==2 && d(2)>0 && d(1)<0\n",
        "                    elif j == 2 and d[1] > 0 and d[0] < 0:\n",
        "                        \n",
        "                        # Dir=1;\n",
        "                        Dir = 1\n",
        "\n",
        "                    # elseif j==3 && d(2)<0 && d(1)<0\n",
        "                    elif j == 3 and d[1] < 0 and d[0] < 0:\n",
        "                        \n",
        "                        # Dir=1;\n",
        "                        Dir = 1\n",
        "\n",
        "                    # elseif j==4 && d(2)<0 && d(1)<0\n",
        "                    elif j == 4 and d[1] < 0 and d[0] < 0:\n",
        "\n",
        "                        # Dir=1;\n",
        "                        Dir = 1\n",
        "\n",
        "                    # elseif j==5 && d(2)<0 && d(1)>0\n",
        "                    elif j == 5 and d[1] < 0 and d[0] > 0:\n",
        "\n",
        "                        # Dir=1;\n",
        "                        Dir = 1\n",
        "\n",
        "                    # elseif j==6 && d(2)<0 && d(1)>0\n",
        "                    elif j == 6 and d[1] < 0 and d[0] > 0:\n",
        "\n",
        "                        # Dir=1;\n",
        "                        Dir = 1\n",
        "\n",
        "                    # elseif j==7 && d(2)>0 && d(1)>0\n",
        "                    elif j == 7 and d[1] > 0 and d[0] > 0:\n",
        "                        \n",
        "                        # Dir=1;\n",
        "                        Dir = 1\n",
        "\n",
        "                    # elseif j==8 && d(2)>0 && d(1)>0\n",
        "                    elif j == 8 and d[1] > 0 and d[0] > 0:\n",
        "\n",
        "                        # Dir=1;\n",
        "                        Dir = 1\n",
        "\n",
        "                    else:\n",
        "\n",
        "                        Dir = 0\n",
        "                    \n",
        "                    \n",
        "            if Dir == 1:\n",
        "\n",
        "                if xb - xa == 0:\n",
        "\n",
        "                    Xnew = xb\n",
        "                    Ynew =  yc + d[1] / d[0] * (Xnew - xc)\n",
        "\n",
        "                # elseif yb-ya==0\n",
        "                elif yb - ya == 0:\n",
        "\n",
        "                    Xnew = (ya - yc - (yb - ya) / (xb - xa) * xa + d[1] / d[0] * xc) / (d[1] / d[0] - (yb - ya) / (xb - xa))\n",
        "                    Ynew = yb\n",
        "\n",
        "                else: \n",
        "\n",
        "                    Xnew = (ya - yc - (yb - ya) / (xb - xa) * xa + d[1] / d[0] * xc) / (d[1] / d[0] - (yb - ya) / (xb - xa))\n",
        "                    Ynew = yc + d[1] / d[0] * (Xnew - xc)\n",
        "                \n",
        "                # if  isnan(Xnew)~=1 && Xnew<=max(xa,xb) && Xnew>=min(xa,xb)  && Ynew<=max(ya,yb) && Ynew>=min(ya,yb)\n",
        "                if np.isinan(Xnew) != 1 and Xnew <= max(xa, xb) and Xnew >= min(xa, xb) and Ynew <= max(ya, yb) and Ynew >= min(ya,yb):\n",
        "\n",
        "                # uABC = [uABC,TC(kk)];\n",
        "                    uABC = [uABC, TC[kk]]\n",
        "                # end\n",
        "            # end\n",
        "                # end\n",
        "            # end\n",
        "            \n",
        "\n",
        "            # uABC = min(uABC);\n",
        "            uABC = min(uABC)\n",
        "\n",
        "            # %one value for single triangle \n",
        "            # if isempty(uABC )==1         \n",
        "            if isempty(uABC) == 1:\n",
        "\n",
        "                # uABC = min([D(i),Ta+ sqrt([xc-xa;yc-ya].'*inv(M)*[xc-xa;yc-ya]), Tb+ sqrt( [xc-xb;yc-yb].'*inv(M)*[xc-xb;yc-yb])] );\n",
        "                uABC = min([D[i], Ta + np.sqrt([xc - xa,yc - ya])])\n",
        "\n",
        "            else:\n",
        "\n",
        "                # uABC = min([D(i),uABC]);\n",
        "                uABC = min[D[i], uABC]\n",
        "\n",
        "            # end\n",
        "            # %8 value from 8 triangle\n",
        "\n",
        "            # Tabc =[Tabc, uABC];\n",
        "            Tabc = [Tabc, uABC]\n",
        "\n",
        "            # end\n",
        "            # D(i) = min(Tabc);\n",
        "            D[i] = min(Tabc)\n",
        "\n",
        "            # end\n",
        "            # end\n",
        "            # toc\n",
        "            end = time.time()\n",
        "\n",
        "            # Order=[];\n",
        "            Order = []\n",
        "\n",
        "            # for hh=1:size(D,2)-2\n",
        "            for hh in range(0,D.shape[1],-2):\n",
        "\n",
        "                # Order= [Order,(2:size(D,1)-1)+hh*n];\n",
        "                Order = [Order][2: D.shape[0]] + hh * n\n",
        "\n",
        "            # end\n",
        "\n",
        "            # for ii= 1:length(Order)\n",
        "            for ii in range(0,len(Order)):\n",
        "\n",
        "                # for ieSS = 1:8\n",
        "                for ieSS in range(0,8):\n",
        "\n",
        "                    # ie = Order(ii);\n",
        "                    ie = Order[ii]\n",
        "\n",
        "                # Errors_eachtriangle =( abs(D(ie)-Dn(ie))+abs((D(Neigh(ie,xm(ieSS,1))))-Dn(Neigh(ie,xm(ieSS,1))))+abs((D(Neigh(ie,xm(ieSS,2)))-Dn(Neigh(ie,xm(ieSS,2))))) )/3;\n",
        "                Errors_eachtriangle = (abs(D[ie] - Dn[ie]) + abs((D[Neigh[ie][xm[iess][0]]])) - Dn[Neigh[ie][xm[ieSS][0]]]) + abs((D[Neigh[ie][xm[ieSS][1]]] - Dn[Neigh[ie][xm[ieSS][1]]]))/3\n",
        "                \n",
        "                # Errorscat(ii,ieSS) =Errors_eachtriangle/8;\n",
        "                Errorscat[ii][ieSS] = Errors_eachtriangle / 8\n",
        "\n",
        "                # Errorscat2(ii) = sum(Errorscat(ii,ieSS));\n",
        "                Errorscat2[ii] = sum(Errorscat[ii][ieSS])\n",
        "                # end\n",
        "                # end\n",
        "\n",
        "                # man's world\n",
        "                # software developers\n",
        "                # silicon valley\n",
        "                \n",
        "\n",
        "            # L1error = [L1error,sum(sum(Errorscat))/size(Order,2)];\n",
        "            L1error = [L1error, sum(sum(Errorscat))/Order.shape[1]]\n",
        "\n",
        "            # %if length(L1error)>200\n",
        "            # %    break;\n",
        "            # %end\n",
        "            # end\n",
        "\n",
        "            # figure;\n",
        "            # [C,h]=contour(X,Y,D)\n",
        "            # set (h, 'LineWidth', 3);\n",
        "            # set(gca,'xtick',linspace(-2,2,5))\n",
        "            # set(gca,'ytick',linspace(-2,2,5))\n",
        "            # set(gca,'fontsize',18)\n",
        "            # xlabel('x');\n",
        "            # ylabel('y')\n"
      ],
      "execution_count": null,
      "outputs": [
        {
          "output_type": "error",
          "ename": "NameError",
          "evalue": "ignored",
          "traceback": [
            "\u001b[0;31m---------------------------------------------------------------------------\u001b[0m",
            "\u001b[0;31mNameError\u001b[0m                                 Traceback (most recent call last)",
            "\u001b[0;32m<ipython-input-1-7b037cf21f7a>\u001b[0m in \u001b[0;36m<module>\u001b[0;34m()\u001b[0m\n\u001b[1;32m     71\u001b[0m     \u001b[0ml2index\u001b[0m \u001b[0;34m=\u001b[0m \u001b[0mnp\u001b[0m\u001b[0;34m.\u001b[0m\u001b[0margsort\u001b[0m\u001b[0;34m(\u001b[0m\u001b[0ml2metric\u001b[0m\u001b[0;34m)\u001b[0m\u001b[0;34m\u001b[0m\u001b[0;34m\u001b[0m\u001b[0m\n\u001b[1;32m     72\u001b[0m     \u001b[0ml2Order\u001b[0m \u001b[0;34m=\u001b[0m \u001b[0ml2metric\u001b[0m\u001b[0;34m[\u001b[0m\u001b[0;36m0\u001b[0m\u001b[0;34m]\u001b[0m\u001b[0;34m[\u001b[0m\u001b[0ml2index\u001b[0m\u001b[0;34m]\u001b[0m\u001b[0;34m\u001b[0m\u001b[0;34m\u001b[0m\u001b[0m\n\u001b[0;32m---> 73\u001b[0;31m     \u001b[0ml2\u001b[0m\u001b[0;34m.\u001b[0m\u001b[0mindex\u001b[0m\u001b[0;34m.\u001b[0m\u001b[0mshape\u001b[0m\u001b[0;34m\u001b[0m\u001b[0;34m\u001b[0m\u001b[0m\n\u001b[0m\u001b[1;32m     74\u001b[0m \u001b[0;34m\u001b[0m\u001b[0m\n\u001b[1;32m     75\u001b[0m     \u001b[0;31m# [iniPosrr,iniPoscc] = find(l2index == I);\u001b[0m\u001b[0;34m\u001b[0m\u001b[0;34m\u001b[0m\u001b[0;34m\u001b[0m\u001b[0m\n",
            "\u001b[0;31mNameError\u001b[0m: name 'l2' is not defined"
          ]
        }
      ]
    },
    {
      "cell_type": "code",
      "metadata": {
        "id": "7QkqRLwVfK7S",
        "colab": {
          "base_uri": "https://localhost:8080/",
          "height": 186
        },
        "outputId": "8e4eb8c6-3a98-4d70-c59d-2079fffdd6d4"
      },
      "source": [
        "l2index.shape\n",
        "l2index[[1]] = [[]*2500]\n"
      ],
      "execution_count": null,
      "outputs": [
        {
          "output_type": "error",
          "ename": "ValueError",
          "evalue": "ignored",
          "traceback": [
            "\u001b[0;31m---------------------------------------------------------------------------\u001b[0m",
            "\u001b[0;31mValueError\u001b[0m                                Traceback (most recent call last)",
            "\u001b[0;32m<ipython-input-22-78255859db56>\u001b[0m in \u001b[0;36m<module>\u001b[0;34m()\u001b[0m\n\u001b[1;32m      1\u001b[0m \u001b[0ml2index\u001b[0m\u001b[0;34m.\u001b[0m\u001b[0mshape\u001b[0m\u001b[0;34m\u001b[0m\u001b[0;34m\u001b[0m\u001b[0m\n\u001b[0;32m----> 2\u001b[0;31m \u001b[0ml2index\u001b[0m\u001b[0;34m[\u001b[0m\u001b[0;34m[\u001b[0m\u001b[0;36m1\u001b[0m\u001b[0;34m]\u001b[0m\u001b[0;34m]\u001b[0m \u001b[0;34m=\u001b[0m \u001b[0;34m[\u001b[0m\u001b[0;34m[\u001b[0m\u001b[0;34m]\u001b[0m\u001b[0;34m*\u001b[0m\u001b[0;36m2500\u001b[0m\u001b[0;34m]\u001b[0m\u001b[0;34m\u001b[0m\u001b[0;34m\u001b[0m\u001b[0m\n\u001b[0m",
            "\u001b[0;31mValueError\u001b[0m: shape mismatch: value array of shape (1,0) could not be broadcast to indexing result of shape (1,2500)"
          ]
        }
      ]
    },
    {
      "cell_type": "code",
      "metadata": {
        "id": "CIHDIezrhrxR",
        "colab": {
          "base_uri": "https://localhost:8080/",
          "height": 33
        },
        "outputId": "20e19643-caac-4e7f-a79e-c1950d63998a"
      },
      "source": [
        "Pinv = []\n",
        "vv = 2\n",
        "for i in asas:\n",
        "    temp = []\n",
        "    for j in i:\n",
        "        temp.append(j * vv)\n",
        "    Pinv.append(temp)\n",
        "\n",
        "Pinv\n",
        "        "
      ],
      "execution_count": null,
      "outputs": [
        {
          "output_type": "execute_result",
          "data": {
            "text/plain": [
              "[[2, 4], [2, 4]]"
            ]
          },
          "metadata": {
            "tags": []
          },
          "execution_count": 16
        }
      ]
    },
    {
      "cell_type": "code",
      "metadata": {
        "id": "RJ8s9maSkEzA",
        "colab": {
          "base_uri": "https://localhost:8080/",
          "height": 33
        },
        "outputId": "f7c5cb5a-5fcc-44a8-adc3-514a8ddabdf7"
      },
      "source": [
        "(1,2) * 2"
      ],
      "execution_count": null,
      "outputs": [
        {
          "output_type": "execute_result",
          "data": {
            "text/plain": [
              "(1, 2, 1, 2)"
            ]
          },
          "metadata": {
            "tags": []
          },
          "execution_count": 13
        }
      ]
    },
    {
      "cell_type": "code",
      "metadata": {
        "id": "kXNvCs-0kNLs",
        "colab": {
          "base_uri": "https://localhost:8080/",
          "height": 33
        },
        "outputId": "fc75d5d5-76b1-440b-8215-0faa7c0b6daf"
      },
      "source": [
        " 2 * [2 + 2][0]"
      ],
      "execution_count": null,
      "outputs": [
        {
          "output_type": "execute_result",
          "data": {
            "text/plain": [
              "8"
            ]
          },
          "metadata": {
            "tags": []
          },
          "execution_count": 21
        }
      ]
    },
    {
      "cell_type": "code",
      "metadata": {
        "id": "XYI3XZb8lfsi",
        "colab": {
          "base_uri": "https://localhost:8080/",
          "height": 33
        },
        "outputId": "99ebb578-738a-476d-a021-ba12f7dd4da9"
      },
      "source": [
        "max(1,2)"
      ],
      "execution_count": null,
      "outputs": [
        {
          "output_type": "execute_result",
          "data": {
            "text/plain": [
              "2"
            ]
          },
          "metadata": {
            "tags": []
          },
          "execution_count": 25
        }
      ]
    },
    {
      "cell_type": "code",
      "metadata": {
        "id": "jKzXJ1OxqkIW",
        "colab": {
          "base_uri": "https://localhost:8080/",
          "height": 33
        },
        "outputId": "e913a9e8-3a26-4a96-dddf-66551c3ca1fb"
      },
      "source": [
        "min([1,2])"
      ],
      "execution_count": null,
      "outputs": [
        {
          "output_type": "execute_result",
          "data": {
            "text/plain": [
              "1"
            ]
          },
          "metadata": {
            "tags": []
          },
          "execution_count": 26
        }
      ]
    },
    {
      "cell_type": "code",
      "metadata": {
        "id": "Arhr0AtYrPYK"
      },
      "source": [
        ""
      ],
      "execution_count": null,
      "outputs": []
    }
  ]
}